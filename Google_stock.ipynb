{
 "cells": [
  {
   "cell_type": "code",
   "execution_count": null,
   "id": "b3c26c30-5cd6-48b8-9164-e03c454e6d4d",
   "metadata": {},
   "outputs": [],
   "source": [
    "import pandas as pd\n",
    "import numpy as np\n",
    "stock = pd.read_csv(\"Google_stock.csv\")"
   ]
  },
  {
   "cell_type": "code",
   "execution_count": null,
   "id": "5ee30b72-8afb-43b1-869a-1d995c5afe98",
   "metadata": {},
   "outputs": [],
   "source": [
    "stock=pd.read_csv(\"Google_stock.csv\")\n",
    "stock"
   ]
  },
  {
   "cell_type": "code",
   "execution_count": null,
   "id": "72953c34-5cb2-4400-9e4b-0b03ffe0cb34",
   "metadata": {},
   "outputs": [],
   "source": [
    "stock.head()"
   ]
  },
  {
   "cell_type": "code",
   "execution_count": null,
   "id": "97564f56-2cf9-419d-b178-eb8493903fbb",
   "metadata": {
    "scrolled": true
   },
   "outputs": [],
   "source": [
    "stock.info()"
   ]
  },
  {
   "cell_type": "code",
   "execution_count": null,
   "id": "bad508dc-e2b4-4a06-a563-0ee69939aefe",
   "metadata": {},
   "outputs": [],
   "source": [
    "stock.describe()"
   ]
  },
  {
   "cell_type": "code",
   "execution_count": null,
   "id": "35891f96-79b3-454a-8daf-99c15b71f702",
   "metadata": {},
   "outputs": [],
   "source": [
    "sample1=stock.iloc[0:100]\n",
    "sample1"
   ]
  },
  {
   "cell_type": "code",
   "execution_count": null,
   "id": "35a3a993-5cd4-45fb-99a7-61ed8f7d2ab5",
   "metadata": {},
   "outputs": [],
   "source": [
    "sample1.describe()"
   ]
  },
  {
   "cell_type": "code",
   "execution_count": null,
   "id": "5e27d1df-3927-49b7-97f1-88d97a900a20",
   "metadata": {},
   "outputs": [],
   "source": [
    " stock.isnull().sum()"
   ]
  },
  {
   "cell_type": "code",
   "execution_count": null,
   "id": "231034f5-e7fd-4fa5-b795-7ca521ee6fb2",
   "metadata": {},
   "outputs": [],
   "source": [
    "stock.columns"
   ]
  },
  {
   "cell_type": "code",
   "execution_count": null,
   "id": "4b1fcd41-9d0d-42fc-9b64-67e97049e675",
   "metadata": {},
   "outputs": [],
   "source": [
    "stock.duplicated().sum()"
   ]
  },
  {
   "cell_type": "code",
   "execution_count": null,
   "id": "0eb71fb2-2dd5-44b2-9337-89749bfbae23",
   "metadata": {},
   "outputs": [],
   "source": [
    "# Standardize column names\n",
    "stock.rename(columns=lambda x: x.strip().replace('.', '_'), inplace=True) \n",
    "#Removing rows with any missing values\n",
    "stock = stock.dropna()\n",
    " #Removing Duplicates \n",
    "stock = stock.drop_duplicates() \n",
    "# Count duplicate rows \n",
    "stock.duplicated().sum()\n"
   ]
  },
  {
   "cell_type": "code",
   "execution_count": null,
   "id": "53140532-744a-4ad4-a63f-4732c041de90",
   "metadata": {},
   "outputs": [],
   "source": [
    "stock.dtypes"
   ]
  },
  {
   "cell_type": "code",
   "execution_count": null,
   "id": "240a95a8-411a-4978-9d64-1f28dde3a801",
   "metadata": {},
   "outputs": [],
   "source": [
    "# Importing the necessary libraries\n",
    "import pandas as pd\n",
    "\n",
    "# Loading the dataset\n",
    "stock = pd.read_csv(\"Google_stock.CSV\")\n",
    "\n",
    "# Displaying general information about the dataset\n",
    "print(\"General Information about the Dataset:\")\n",
    "stock.info()\n",
    "\n",
    "# Displaying a sample of the data\n",
    "print(\"\\nSample Data:\")\n",
    "print(stock.head())"
   ]
  },
  {
   "cell_type": "code",
   "execution_count": null,
   "id": "7d45a9f7-e5bb-4514-996a-095aca36fe44",
   "metadata": {},
   "outputs": [],
   "source": [
    "# Descriptive Statistics for Google Stock Price\n",
    "print(\"\\nDescriptive Statistics for Google Stock Price Metrics:\")\n",
    "stock_metrics = [\"Open\", \"Close\", \"High\", \"Low\", \"Volume\"]\n",
    "print(sample1[stock_metrics].describe())\n"
   ]
  },
  {
   "cell_type": "code",
   "execution_count": null,
   "id": "77bcfed7-4e7d-48c3-b183-b9d4eb0e8593",
   "metadata": {},
   "outputs": [],
   "source": [
    "import matplotlib.pyplot as plt\n",
    "import seaborn as sns\n",
    "# Histogram for price columns\n",
    "sample1[[\"Open\", \"Close\", \"High\", \"Low\"]].hist(bins=20, figsize=(10, 6))\n",
    "plt.suptitle('Histograms for Google Stock Price')\n",
    "plt.show()\n"
   ]
  },
  {
   "cell_type": "code",
   "execution_count": null,
   "id": "d0cf5a6e-cc8b-4119-915f-6226c8a3a773",
   "metadata": {},
   "outputs": [],
   "source": [
    "import seaborn as sns\n",
    "import matplotlib.pyplot as plt\n",
    "plt.figure(figsize=(12, 8))\n",
    "ax = sns.boxplot(data=sample1[[\"Open\", \"Close\", \"High\", \"Low\"]])\n",
    "for i, column in enumerate([\"Open\", \"Close\", \"High\", \"Low\"]):\n",
    "    values = sample1[column]\n",
    "    median = values.median()\n",
    "    q1 = values.quantile(0.25)\n",
    "    q3 = values.quantile(0.75)\n",
    "    min_val = values.min()\n",
    "    max_val = values.max()\n",
    "    ax.text(i, median, f'Median: {median:.2f}', ha='center', color='black', fontsize=12)\n",
    "    ax.text(i - 0.1, q1, f'Q1: {q1:.2f}', ha='center', color='black', fontsize=12)\n",
    "    ax.text(i + 0.1, q3, f'Q3: {q3:.2f}', ha='center', color='black', fontsize=12)\n",
    "    ax.text(i - 0.1, min_val, f'Min: {min_val:.2f}', ha='center', color='red', fontsize=12)\n",
    "    ax.text(i + 0.1, max_val, f'Max: {max_val:.2f}', ha='center', color='red', fontsize=12)\n",
    "plt.title('Box Plots for Stock Prices with Actual Values', fontsize=14)\n",
    "plt.show()\n"
   ]
  },
  {
   "cell_type": "code",
   "execution_count": null,
   "id": "6758f53f-5df2-4230-a85f-81eea51ba0a1",
   "metadata": {},
   "outputs": [],
   "source": [
    "\n",
    "# Correlation heatmap\n",
    "plt.figure(figsize=(8, 6))\n",
    "sns.heatmap(sample1[[\"Open\", \"Close\", \"High\", \"Low\", \"Volume\"]].corr(), annot=True, cmap='coolwarm')\n",
    "plt.title('Correlation Heatmap of Google Stock Metrics')\n",
    "plt.show()\n"
   ]
  },
  {
   "cell_type": "code",
   "execution_count": null,
   "id": "ba8306a7-6b5e-4063-9baf-b1f6c2bf18af",
   "metadata": {},
   "outputs": [],
   "source": [
    "# Skewness and Kurtosis\n",
    "print(sample1[[\"Open\", \"Close\", \"High\", \"Low\"]].skew())\n",
    "print(sample1[[\"Open\", \"Close\", \"High\", \"Low\"]].kurt())"
   ]
  },
  {
   "cell_type": "code",
   "execution_count": null,
   "id": "5a475b76-d9d2-46df-8e96-0b8844b13753",
   "metadata": {
    "scrolled": true
   },
   "outputs": [],
   "source": [
    "import matplotlib.pyplot as plt\n",
    "\n",
    "# Take the first 30 rows from the dataset\n",
    "sample_30 = sample1.iloc[:10]\n",
    "\n",
    "# Plotting time series for Open, Close, High, and Low prices\n",
    "plt.figure(figsize=(12, 6))\n",
    "plt.plot(sample_30['Date'], sample_30['Open'], label='Open', color='blue')\n",
    "plt.plot(sample_30['Date'], sample_30['Close'], label='Close', color='green')\n",
    "plt.plot(sample_30['Date'], sample_30['High'], label='High', color='red')\n",
    "plt.plot(sample_30['Date'], sample_30['Low'], label='Low', color='orange')\n",
    "\n",
    "plt.title('Time Series Line Plot for Stock Prices ')\n",
    "plt.xlabel('Date')\n",
    "plt.ylabel('Price')\n",
    "plt.legend(loc='upper left')\n",
    "plt.xticks(rotation=45)\n",
    "plt.tight_layout()\n",
    "plt.show()\n"
   ]
  },
  {
   "cell_type": "code",
   "execution_count": null,
   "id": "41a851c9-792f-45ff-b05c-e0fd6f0c3519",
   "metadata": {
    "scrolled": true
   },
   "outputs": [],
   "source": [
    "import plotly.graph_objects as go\n",
    "sample_20 = sample1.iloc[:20]\n",
    "fig = go.Figure(data=[go.Candlestick(\n",
    "    x=sample_20['Date'],\n",
    "    open=sample_20['Open'],\n",
    "    high=sample_20['High'],\n",
    "    low=sample_20['Low'],\n",
    "    close=sample_20['Close']\n",
    ")])\n",
    "fig.update_layout(\n",
    "    title='Google Stock Price Candlestick Chart (First 20 Rows)',\n",
    "    xaxis_title='Date',\n",
    "    yaxis_title='Price',\n",
    "    xaxis_rangeslider_visible=False\n",
    ")\n",
    "fig.show()\n"
   ]
  },
  {
   "cell_type": "code",
   "execution_count": null,
   "id": "09e570a9-97ce-4262-897e-b68ea42f58fb",
   "metadata": {},
   "outputs": [],
   "source": [
    "import matplotlib.pyplot as plt\n",
    "sample_20 = sample1.iloc[:10]\n",
    "plt.figure(figsize=(12, 6))\n",
    "plt.plot(sample_20['Date'], sample_20['Volume'], color='blue')\n",
    "plt.title('Google Stock Trading Volume Over Time')\n",
    "plt.xlabel('Date')\n",
    "plt.ylabel('Volume')\n",
    "plt.xticks(rotation=15)\n",
    "plt.tight_layout()\n",
    "plt.show()\n"
   ]
  },
  {
   "cell_type": "code",
   "execution_count": null,
   "id": "e9f37d80-188a-47c3-af8c-880c7028810f",
   "metadata": {},
   "outputs": [],
   "source": [
    "import matplotlib.pyplot as plt\n",
    "\n",
    "sample_20 = sample1.iloc[:50]\n",
    "sample_20['Date'] = pd.to_datetime(sample_20['Date'])\n",
    "sample_20['Month'] = sample_20['Date'].dt.to_period('M')\n",
    "monthly_avg_close = sample_20.groupby('Month')['Close'].mean()\n",
    "plt.figure(figsize=(10, 5))\n",
    "monthly_avg_close.plot(kind='bar', color='blue')\n",
    "plt.title('Average Close Price Per Month ')\n",
    "plt.xlabel('Month')\n",
    "plt.ylabel('Average Close Price')\n",
    "plt.xticks(rotation=0)\n",
    "plt.tight_layout()\n",
    "plt.show()\n"
   ]
  },
  {
   "cell_type": "code",
   "execution_count": null,
   "id": "33275d07-2fe9-474a-93fd-1f053013de58",
   "metadata": {},
   "outputs": [],
   "source": [
    "plt.figure(figsize=(10, 6))\n",
    "sns.scatterplot(x=sample1['Volume'], y=sample1['Close'], color='purple')\n",
    "plt.title('Scatter Plot of Volume vs Close Price')\n",
    "plt.xlabel('Volume')\n",
    "plt.ylabel('Close Price')\n",
    "plt.tight_layout()\n",
    "plt.show()"
   ]
  },
  {
   "cell_type": "code",
   "execution_count": null,
   "id": "191d810a-42d8-4b48-bcf5-1017feb06467",
   "metadata": {},
   "outputs": [],
   "source": [
    "import matplotlib.pyplot as plt\n",
    "import seaborn as sns\n",
    "\n",
    "sample_20 = sample1.iloc[:20]\n",
    "plt.figure(figsize=(10, 5))\n",
    "sns.scatterplot(x=sample_20['Volume'], y=sample_20['Close'], color='purple')\n",
    "plt.title('Scatter Plot of Volume vs Close Price ')\n",
    "plt.xlabel('Volume')\n",
    "plt.ylabel('Close Price')\n",
    "plt.tight_layout()\n",
    "plt.show()\n"
   ]
  },
  {
   "cell_type": "code",
   "execution_count": null,
   "id": "455a016f-bda8-4809-a36f-789dd1c3976c",
   "metadata": {},
   "outputs": [],
   "source": [
    "average_close = sample1['Close'].mean()\n",
    "above_avg = sample1[sample1['Close'] > average_close].shape[0]\n",
    "below_avg = sample1[sample1['Close'] <= average_close].shape[0]\n",
    "\n",
    "labels = ['Above Average Close', 'Below Average Close']\n",
    "sizes = [above_avg, below_avg]\n",
    "colors = ['red', 'purple']\n",
    "\n",
    "plt.figure(figsize=(5, 5))\n",
    "plt.pie(sizes, labels=labels, colors=colors, autopct='%1.1f%%', startangle=140)\n",
    "plt.title('Distribution of Above and Below Average Close Prices')\n",
    "plt.axis('equal')  \n",
    "plt.show()"
   ]
  },
  {
   "cell_type": "code",
   "execution_count": null,
   "id": "c26e7745-54d9-4461-8697-4f0d7c1d233d",
   "metadata": {},
   "outputs": [],
   "source": [
    "correlation = sample1[['Open', 'High', 'Low', 'Close', 'Volume']].corr()\n",
    "print(correlation)\n"
   ]
  },
  {
   "cell_type": "code",
   "execution_count": null,
   "id": "cf790e77-fd8f-4835-9133-f07af8000503",
   "metadata": {},
   "outputs": [],
   "source": [
    "stock_count=sample1['High'].value_counts()\n",
    "print(\"highest stock price in google stock data\")\n",
    "print(stock_count)"
   ]
  },
  {
   "cell_type": "code",
   "execution_count": null,
   "id": "e2c50dbd-b50a-4b29-9384-bce1e3f190bb",
   "metadata": {},
   "outputs": [],
   "source": [
    "print(stock.columns)\n"
   ]
  },
  {
   "cell_type": "code",
   "execution_count": null,
   "id": "b825ec1b-4845-437c-9fc1-9e03f4830e11",
   "metadata": {},
   "outputs": [],
   "source": [
    "sample1.value_counts()"
   ]
  },
  {
   "cell_type": "code",
   "execution_count": null,
   "id": "e238644a-dcf9-4627-b43c-f4965d0a4ac7",
   "metadata": {},
   "outputs": [],
   "source": [
    "np.quantile(sample1[['Open','High','Low','Close','Adj Close']],[0.25],axis=0)"
   ]
  },
  {
   "cell_type": "code",
   "execution_count": null,
   "id": "641bc342-af2b-478a-b339-2c1cdaa3bc92",
   "metadata": {},
   "outputs": [],
   "source": [
    "np.quantile(sample1[['Open','High','Low','Close','Adj Close']],[0.50],axis=0)"
   ]
  },
  {
   "cell_type": "code",
   "execution_count": null,
   "id": "f87e1333-fc65-4d84-9115-e1ee577ef384",
   "metadata": {},
   "outputs": [],
   "source": [
    "np.quantile(sample1[['Open','High','Low','Close','Adj Close']],[0.75],axis=0)"
   ]
  },
  {
   "cell_type": "code",
   "execution_count": null,
   "id": "80ba53c7-a7f9-4570-a146-91b4fd3ce227",
   "metadata": {},
   "outputs": [],
   "source": [
    "from scipy.stats import zscore\n",
    "import pandas as pd\n",
    "\n",
    "# Assuming sample1 is defined as in your previous context\n",
    "# Select only numerical columns (e.g., exclude 'Date')\n",
    "numerical_columns = ['Open', 'Close', 'High', 'Low', 'Adj Close', 'Volume']\n",
    "z_scores = zscore(sample1[numerical_columns], axis=0)\n",
    "\n",
    "# Convert the result back to a DataFrame for easier handling\n",
    "z_scores_df = pd.DataFrame(z_scores, columns=numerical_columns, index=sample1.index)\n",
    "\n",
    "# Display the result\n",
    "print(z_scores_df)"
   ]
  },
  {
   "cell_type": "code",
   "execution_count": null,
   "id": "def31121-4d4b-4fbb-ac86-5712da9dc082",
   "metadata": {},
   "outputs": [],
   "source": [
    "from scipy.stats import zscore\n",
    "zscore(sample1.Close,axis=0)"
   ]
  },
  {
   "cell_type": "code",
   "execution_count": null,
   "id": "a7c34dc7-b040-4397-b0e1-8305bfc21c03",
   "metadata": {},
   "outputs": [],
   "source": [
    "x=pd.Series(sample1['Open'])\n",
    "y=pd.Series(sample1['Close'])\n",
    "print(\"c\",x.corr(y))"
   ]
  },
  {
   "cell_type": "code",
   "execution_count": null,
   "id": "4900b955-348c-424f-8404-65ac29e021bc",
   "metadata": {},
   "outputs": [],
   "source": [
    "import matplotlib.pyplot as plt\n",
    "x = [\"2010-01-04\", \"2010-01-05\", \"2010-01-06\", \"2010-01-07\", \"2010-01-08\"] \n",
    "y = [15.753504, 15.711712, 15.662162, 15.265265, 15.096346] \n",
    "plt.bar(x, y)\n",
    "\n",
    "plt.xlabel(\"Date\", fontsize=15)\n",
    "plt.ylabel(\"High Price\", fontsize=15)\n",
    "plt.title(\"Google Stock High Prices\", fontsize=15)\n",
    "\n",
    "plt.show()\n"
   ]
  },
  {
   "cell_type": "code",
   "execution_count": null,
   "id": "3e2ae518-61ca-4412-ac3c-57b65c156796",
   "metadata": {},
   "outputs": [],
   "source": [
    "labels = [\"2010-01-04\", \"2010-01-05\", \"2010-01-06\", \"2010-01-07\", \"2010-01-08\"] \n",
    "sizes = [15.753504, 15.711712, 15.662162, 15.265265, 15.096346]  \n",
    "plt.pie(sizes, labels=labels, autopct='%1.1f%%', startangle=140)\n",
    "plt.title(\"Google Stock High Prices Distribution\")\n",
    "\n",
    "plt.show()\n"
   ]
  },
  {
   "cell_type": "code",
   "execution_count": null,
   "id": "c35f3c15-a33f-474d-be4d-a6f354540e4f",
   "metadata": {},
   "outputs": [],
   "source": [
    "plt.hist(sample1['Open'], bins=30, color='blue', edgecolor='black')\n",
    "\n",
    "plt.title('Histogram of Google Open Stock Prices', fontsize=15)\n",
    "plt.xlabel('Stock Price', fontsize=12)\n",
    "plt.ylabel('Frequency', fontsize=12)\n",
    "plt.show()\n"
   ]
  },
  {
   "cell_type": "code",
   "execution_count": null,
   "id": "db75e89f-8b8f-4695-ae4a-e33f45a59463",
   "metadata": {},
   "outputs": [],
   "source": []
  }
 ],
 "metadata": {
  "kernelspec": {
   "display_name": "Python 3",
   "language": "python",
   "name": "python3"
  },
  "language_info": {
   "codemirror_mode": {
    "name": "ipython",
    "version": 3
   },
   "file_extension": ".py",
   "mimetype": "text/x-python",
   "name": "python",
   "nbconvert_exporter": "python",
   "pygments_lexer": "ipython3",
   "version": "3.13.3"
  }
 },
 "nbformat": 4,
 "nbformat_minor": 5
}
